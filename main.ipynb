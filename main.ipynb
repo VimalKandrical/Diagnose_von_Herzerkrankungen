{
  "nbformat": 4,
  "nbformat_minor": 0,
  "metadata": {
    "colab": {
      "name": "main.ipynb",
      "provenance": []
    },
    "kernelspec": {
      "name": "python3",
      "display_name": "Python 3"
    }
  },
  "cells": [
    {
      "cell_type": "markdown",
      "metadata": {
        "id": "lC2NDrTlSrmf",
        "colab_type": "text"
      },
      "source": [
        "#Diagnose von Herzerkrankungen mit Machine Learning\n",
        "**Autor:**<br> Vimal Kandrical\n",
        "\n",
        "**Daten:**<br>[Heart Disease Cleveland UCI | Kaggle](https://www.kaggle.com/cherngs/heart-disease-cleveland-uci) "
      ]
    },
    {
      "cell_type": "markdown",
      "metadata": {
        "id": "fYaB8aCFSxLN",
        "colab_type": "text"
      },
      "source": [
        "# Einleitung"
      ]
    },
    {
      "cell_type": "markdown",
      "metadata": {
        "id": "D6ggALb3S2qg",
        "colab_type": "text"
      },
      "source": [
        "Im Rahmen des Moduls Machine Learning im CAS Machine Intelligence werden in diesem Projekt verschiedene Machine Learning Methoden genutzt, um Herzerkrankungen zu diagnostizieren.\n"
      ]
    },
    {
      "cell_type": "markdown",
      "metadata": {
        "id": "emReApJKYRWL",
        "colab_type": "text"
      },
      "source": [
        "# Datensatz"
      ]
    },
    {
      "cell_type": "markdown",
      "metadata": {
        "id": "5a4a9Mkza5rY",
        "colab_type": "text"
      },
      "source": [
        "## Ursprung\n",
        "Dieser Datensatz stammt von der Cleveland Klinik aus Ohio. Es handelt sich um klinische und nicht-invasive Resultate, welche aus Angiographien bei 303 Patienten resultierten.\n",
        "\n",
        "## Beschreibung\n",
        "Der Datensatz beinhaltete ursprünglich 75 Attribute, welche aber auf 13 Attribute und eine Zielvariable reduziert wurde.\n",
        "\n",
        "**Attribute:**\n",
        "*   age:<br>\n",
        "age in years\n",
        "*   sex:<br>\n",
        "sex (1 = male, 0 = female)\n",
        "*   cp:<br>\n",
        "chest pain type (0 = typical angina, 1 = atypical angina, 2 = non-anginal pain, 3 = asymptomatic)\n",
        "*   trestbps:<br>\n",
        "resting blood pressure (in mm Hg on admission to the hospital)\n",
        "*   chol:<br>\n",
        "serum cholestoral in mg/dl \n",
        "*   fbs:<br>\n",
        "fasting blood sugar > 120 mg/dl (1 = true, 0 = false)\n",
        "*   restecg:<br>\n",
        "resting electrocardiographic results (0 = normal, 1 = having ST-T wave abnormality, 2 = showing probable or definite left ventricular hypertrophy by Estes' criteria)\n",
        "*   thalach:<br>\n",
        "maximum heart rate achieved\n",
        "*   exang:<br>\n",
        "exercise induced angina (1 = yes, 0 = no)\n",
        "*   oldpeak:<br>\n",
        "ST depression induced by exercise relative to rest\n",
        "*   slope:<br>\n",
        "the slope of the peak exercise ST segment (0 = upsloping, 1 = flat, 2 = downsloping)\n",
        "*   ca :<br>\n",
        "number of major vessels (0-3) colored by flourosopy\n",
        "*   thal:<br>\n",
        "thallium stress test result (0 = normal, 1 = fixed defect, 2 = reversabel defect)\n",
        "\n",
        "**Zielvariable:**\n",
        "*   condition:<br>\n",
        "0 = no disease, 1 = disease\n",
        "\n",
        "Zum besseren medizinischen Verständnis der Attribute restecg, oldpeak, slope und thal werden hier noch zwei Themen kurz erläutert.\n",
        "\n",
        "**EKG Basics:**\n",
        "\n",
        "![Bildlink kaputt](https://www.ratgeber-herzinsuffizienz.de/sites/ratgeber_herzinsuffizienz_de/files/styles/crop_freeform/public/2019-12/ekg-kurve.webp?itok=2qVKNimN)\n",
        "*   P-Welle: Erregung der Vorhöfe, die sich zusammenziehen und Blut in die schlaffen Kammern pressen\n",
        "*   PQ-Strecke: Überleitung des Impulses auf die Herzkammern\n",
        "*   QRS-Komplex: Höchster Punkt der Zacke zeigt an, dass die gesamten Herzmuskelzellen mit elektrischer Energie versorgt sind – die Herzkammern ziehen sich zusammen\n",
        "*   ST-Strecke: Zeit, die vergeht, bis das Blut aus den Kammern gepumpt ist, und die Erholung des Herzmuskels beginnt\n",
        "*   T-Welle: Nachdem das Blut vollständig aus dem Herzen ausgeworfen ist, erfolgt die Entspannungsphase und Erschlaffung der Herzkammern\n",
        "\n",
        "[Quelle: ratgeber-herzinsuffizienz.de](https://www.ratgeber-herzinsuffizienz.de/erkennen/herzinsuffizienz-diagnose/ekg)\n",
        "\n",
        "**Thallium stress test:**\n",
        "\n",
        "[...]\n",
        "\n",
        "Imaging the heart helps determine whether inducing stress using the above methods (*Laufbahn/Ergometer*) caused detectable myocardial ischemia, which would **then indicate a significant coronary stenosis**. The means to image the heart include electrocardiography (ECG stress testing), echocardiography, nuclear imaging and magnetic resonance imaging (MRI). \n",
        "\n",
        "[...]\n",
        "\n",
        "Nuclear stress testing requires the injection of a tracer, commonly technicium 99M (Myoview or Cardiolyte) (*hier: Thallium*), which is then taken up by healthy, viable myocardial cells. A camera (detector) is used afterwards to image the heart and compare segments. **A coronary stenosis is detected when a myocardial segment takes up the nuclear tracer at rest, but not during cardiac stress**. This is called a **\"reversible defect\"**. **Scarred myocardium from prior infarct will not take up tracer at all** and is referred to as a **\"fixed defect\"**. \n",
        "\n",
        "[...]\n",
        "\n",
        "[Quelle: healio.com](https://www.healio.com/cardiology/learn-the-heart/cardiology-review/topic-reviews/stress-testing-review)\n",
        "\n",
        "\n",
        "\n",
        "\n",
        "\n",
        "\n",
        "\n",
        "\n",
        "\n",
        "\n",
        "\n",
        "\n",
        "\n"
      ]
    },
    {
      "cell_type": "markdown",
      "metadata": {
        "id": "DJ5Zica_YTu_",
        "colab_type": "text"
      },
      "source": [
        "# Voranalyse"
      ]
    },
    {
      "cell_type": "markdown",
      "metadata": {
        "id": "uGY83mSU2ufO",
        "colab_type": "text"
      },
      "source": [
        "Daten einlesen und sich einen ersten Überblick verschaffen."
      ]
    },
    {
      "cell_type": "code",
      "metadata": {
        "id": "UAmDIAks2UZW",
        "colab_type": "code",
        "outputId": "728fae7d-49f3-4416-8f33-d3bae67c44eb",
        "colab": {
          "base_uri": "https://localhost:8080/",
          "height": 1000
        }
      },
      "source": [
        "import pandas as pd\n",
        "import matplotlib.pyplot as plt\n",
        "\n",
        "pd.options.display.max_columns = 20\n",
        "\n",
        "datensatz = pd.read_csv(\"heart_cleveland_upload.csv\", \",\")\n",
        "\n",
        "print(datensatz.head())\n",
        "print(datensatz.info())\n",
        "print(datensatz.describe())\n",
        "datensatz.hist(figsize=(15, 10))\n",
        "korrelation = datensatz.corr()\n",
        "korrelation[\"condition\"].sort_values(ascending=False)  \n",
        "     "
      ],
      "execution_count": 24,
      "outputs": [
        {
          "output_type": "stream",
          "text": [
            "   age  sex  cp  trestbps  chol  fbs  restecg  thalach  exang  oldpeak  slope  \\\n",
            "0   69    1   0       160   234    1        2      131      0      0.1      1   \n",
            "1   69    0   0       140   239    0        0      151      0      1.8      0   \n",
            "2   66    0   0       150   226    0        0      114      0      2.6      2   \n",
            "3   65    1   0       138   282    1        2      174      0      1.4      1   \n",
            "4   64    1   0       110   211    0        2      144      1      1.8      1   \n",
            "\n",
            "   ca  thal  condition  \n",
            "0   1     0          0  \n",
            "1   2     0          0  \n",
            "2   0     0          0  \n",
            "3   1     0          1  \n",
            "4   0     0          0  \n",
            "<class 'pandas.core.frame.DataFrame'>\n",
            "RangeIndex: 297 entries, 0 to 296\n",
            "Data columns (total 14 columns):\n",
            " #   Column     Non-Null Count  Dtype  \n",
            "---  ------     --------------  -----  \n",
            " 0   age        297 non-null    int64  \n",
            " 1   sex        297 non-null    int64  \n",
            " 2   cp         297 non-null    int64  \n",
            " 3   trestbps   297 non-null    int64  \n",
            " 4   chol       297 non-null    int64  \n",
            " 5   fbs        297 non-null    int64  \n",
            " 6   restecg    297 non-null    int64  \n",
            " 7   thalach    297 non-null    int64  \n",
            " 8   exang      297 non-null    int64  \n",
            " 9   oldpeak    297 non-null    float64\n",
            " 10  slope      297 non-null    int64  \n",
            " 11  ca         297 non-null    int64  \n",
            " 12  thal       297 non-null    int64  \n",
            " 13  condition  297 non-null    int64  \n",
            "dtypes: float64(1), int64(13)\n",
            "memory usage: 32.6 KB\n",
            "None\n",
            "              age         sex          cp    trestbps        chol         fbs  \\\n",
            "count  297.000000  297.000000  297.000000  297.000000  297.000000  297.000000   \n",
            "mean    54.542088    0.676768    2.158249  131.693603  247.350168    0.144781   \n",
            "std      9.049736    0.468500    0.964859   17.762806   51.997583    0.352474   \n",
            "min     29.000000    0.000000    0.000000   94.000000  126.000000    0.000000   \n",
            "25%     48.000000    0.000000    2.000000  120.000000  211.000000    0.000000   \n",
            "50%     56.000000    1.000000    2.000000  130.000000  243.000000    0.000000   \n",
            "75%     61.000000    1.000000    3.000000  140.000000  276.000000    0.000000   \n",
            "max     77.000000    1.000000    3.000000  200.000000  564.000000    1.000000   \n",
            "\n",
            "          restecg     thalach       exang     oldpeak       slope          ca  \\\n",
            "count  297.000000  297.000000  297.000000  297.000000  297.000000  297.000000   \n",
            "mean     0.996633  149.599327    0.326599    1.055556    0.602694    0.676768   \n",
            "std      0.994914   22.941562    0.469761    1.166123    0.618187    0.938965   \n",
            "min      0.000000   71.000000    0.000000    0.000000    0.000000    0.000000   \n",
            "25%      0.000000  133.000000    0.000000    0.000000    0.000000    0.000000   \n",
            "50%      1.000000  153.000000    0.000000    0.800000    1.000000    0.000000   \n",
            "75%      2.000000  166.000000    1.000000    1.600000    1.000000    1.000000   \n",
            "max      2.000000  202.000000    1.000000    6.200000    2.000000    3.000000   \n",
            "\n",
            "             thal   condition  \n",
            "count  297.000000  297.000000  \n",
            "mean     0.835017    0.461279  \n",
            "std      0.956690    0.499340  \n",
            "min      0.000000    0.000000  \n",
            "25%      0.000000    0.000000  \n",
            "50%      0.000000    0.000000  \n",
            "75%      2.000000    1.000000  \n",
            "max      2.000000    1.000000  \n"
          ],
          "name": "stdout"
        },
        {
          "output_type": "execute_result",
          "data": {
            "text/plain": [
              "condition    1.000000\n",
              "thal         0.520516\n",
              "ca           0.463189\n",
              "oldpeak      0.424052\n",
              "exang        0.421355\n",
              "cp           0.408945\n",
              "slope        0.333049\n",
              "sex          0.278467\n",
              "age          0.227075\n",
              "restecg      0.166343\n",
              "trestbps     0.153490\n",
              "chol         0.080285\n",
              "fbs          0.003167\n",
              "thalach     -0.423817\n",
              "Name: condition, dtype: float64"
            ]
          },
          "metadata": {
            "tags": []
          },
          "execution_count": 24
        },
        {
          "output_type": "display_data",
          "data": {
            "image/png": "[encoded data removed]",
            "text/plain": [
              "<Figure size 1080x720 with 16 Axes>"
            ]
          },
          "metadata": {
            "tags": [],
            "needs_background": "light"
          }
        }
      ]
    },
    {
      "cell_type": "markdown",
      "metadata": {
        "id": "CdrMPu_S29yR",
        "colab_type": "text"
      },
      "source": [
        "**Erste Erkenntnisse:**\n",
        "\n",
        "\n",
        "*   kategorielle Variablen: condition, cp, exang, fbs, restecg, sex, slope, thal  \n",
        "*   keine NULL Werte\n",
        "*   nur Patienten über 29\n",
        "*   mehrheitlich Männer (68%)\n",
        "*   kein Attribut korreliert stark mit der Zielvariable. Viele haben zeigen eine mittelmässig Korrelation und einige korrelieren nur wenig (chol, fbs)\n",
        "*   Folgende Attribute sind rechtsschief: chol, oldpeak und trestbps -> eventuell Log-Transformation anwenden\n",
        "*   die Zielvariable (condition) ist ca. 50/50 verteilt\n",
        "*   wenige Patienten haben eine ST-T Kurvenabnormalität (restecg=1) oder vernarbtes Herzmuskelgewebe von einem Herzinfarkt (thal=1)\n",
        "*   nur die Attribute chol und oldpeak haben potentielle Ausreisser\n",
        "\n",
        "\n"
      ]
    },
    {
      "cell_type": "markdown",
      "metadata": {
        "id": "HebNIkvgYfgW",
        "colab_type": "text"
      },
      "source": [
        "# Pipelines"
      ]
    },
    {
      "cell_type": "markdown",
      "metadata": {
        "id": "p2DpiNUt64zi",
        "colab_type": "text"
      },
      "source": [
        "Datensatz splitten in Training- und Testsample (80/20). Dabei wir auf eine Stratifizierung verzichtet (stratified shuffling), da kein Attribut eine sehr hohe Korrelation zur Zielvariable aufweist."
      ]
    },
    {
      "cell_type": "code",
      "metadata": {
        "id": "5jqqwBxw64LG",
        "colab_type": "code",
        "outputId": "c6d27cf9-2ae5-4dfa-d0f2-adf4b0075741",
        "colab": {
          "base_uri": "https://localhost:8080/",
          "height": 36
        }
      },
      "source": [
        "from sklearn.model_selection import train_test_split\n",
        "\n",
        "X = datensatz.drop(\"condition\", axis=1)\n",
        "y = datensatz[\"condition\"].copy()\n",
        "\n",
        "x_train, x_test, y_train, y_test = train_test_split(X, y, test_size=0.2,\n",
        "                                                    random_state=88)\n",
        "print(x_train.shape, x_test.shape, y_train.shape, y_test.shape)"
      ],
      "execution_count": 25,
      "outputs": [
        {
          "output_type": "stream",
          "text": [
            "(237, 13) (60, 13) (237,) (60,)\n"
          ],
          "name": "stdout"
        }
      ]
    },
    {
      "cell_type": "markdown",
      "metadata": {
        "id": "z8pebSCyA-u3",
        "colab_type": "text"
      },
      "source": [
        "Pipelines für die numerischen und kategoriellen Attribute:\n",
        "\n",
        "\n",
        "*   numerisch: Log-Transformation für leicht rechtsschiefe Attribute und Standardisierung aller Attribute auf Mittelwert 0 und Standardabweichung 1\n",
        "*   kategoriell: one-hot encoding\n",
        "\n"
      ]
    },
    {
      "cell_type": "code",
      "metadata": {
        "id": "dlCW95vvBv4E",
        "colab_type": "code",
        "colab": {}
      },
      "source": [
        "from sklearn.compose import ColumnTransformer\n",
        "from sklearn.preprocessing import OneHotEncoder, StandardScaler, FunctionTransformer\n",
        "from sklearn.pipeline import Pipeline\n",
        "import numpy as np\n",
        "\n",
        "rschief_att = [\"chol\", \"oldpeak\", \"trestbps\"]\n",
        "num_att = [\"age\", \"ca\", \"thalach\"]\n",
        "kat_att = [\"cp\", \"exang\", \"fbs\", \"restecg\", \"sex\", \"slope\", \"thal\"]\n",
        "\n",
        "rschief_pipe = Pipeline([('log', FunctionTransformer(np.log1p, validate=False)),\n",
        "                         ('ss', StandardScaler())]) \n",
        "num_pipe = Pipeline([('ss', StandardScaler())])\n",
        "kat_pipe = Pipeline([('ohe', OneHotEncoder())])\n",
        "\n",
        "pipelines = ColumnTransformer([\n",
        "  (\"rschief\", rschief_pipe, rschief_att),\n",
        "  (\"num\", num_pipe, num_att),\n",
        "  (\"kat\", kat_pipe, kat_att),\n",
        "])\n",
        "\n",
        "datensatz_aufb = pipelines.fit_transform(x_train)\n",
        "\n",
        "head = \"chol,oldpeak,trestbps,age,ca,thalach,cp0,cp1,cp2,cp3,exang0,exang1,\\\n",
        "fbs0,fbs1,restecg0,restecg1,restecg2,sex0,sex1,slope0,slope1,slope2,\\\n",
        "thal0,thal1,thal2\"\n",
        "np.savetxt(\"datensatz_aufb.csv\", datensatz_aufb, header=head, delimiter=\",\")"
      ],
      "execution_count": 0,
      "outputs": []
    },
    {
      "cell_type": "markdown",
      "metadata": {
        "id": "NBpM70DsZNbz",
        "colab_type": "text"
      },
      "source": [
        "# Training der Modelle"
      ]
    },
    {
      "cell_type": "markdown",
      "metadata": {
        "id": "vujsHnRUnrBk",
        "colab_type": "text"
      },
      "source": [
        "##Stochastic Gradient Descent (SGD)"
      ]
    },
    {
      "cell_type": "markdown",
      "metadata": {
        "id": "seEJWY-8dluK",
        "colab_type": "text"
      },
      "source": [
        "Die Lernrate wurde mittels GridSearch gewählt, siehe Codeblock weiter unten."
      ]
    },
    {
      "cell_type": "code",
      "metadata": {
        "id": "FYg2xIUBn0gs",
        "colab_type": "code",
        "colab": {
          "base_uri": "https://localhost:8080/",
          "height": 358
        },
        "outputId": "63a1a6f5-90d7-4ab4-c875-4d9b9789e7f0"
      },
      "source": [
        "from sklearn.linear_model import SGDClassifier\n",
        "from sklearn.model_selection import cross_val_predict\n",
        "from sklearn.metrics import confusion_matrix, precision_score, recall_score, precision_recall_curve\n",
        "\n",
        "def cm(pred,y):\n",
        "  print(confusion_matrix(pred, y))\n",
        "  print(\"Precision: \", round(precision_score(pred, y),2))\n",
        "  print(\"Recall: \", round(recall_score(pred, y),2))\n",
        "\n",
        "def plot_prec_recall(prec, rec, threshold):\n",
        "  plt.plot(threshold, prec[:-1], \"b--\", label=\"Precision\")\n",
        "  plt.plot(threshold, rec[:-1], \"g--\", label=\"Recall\")\n",
        "  plt.xlabel(\"Threshold\")\n",
        "  plt.legend(loc=\"center right\")\n",
        "  plt.ylim([0,1])\n",
        "\n",
        "sgd = SGDClassifier(alpha=0.04, max_iter=100000, random_state=8)\n",
        "\n",
        "sgd_pred = cross_val_predict(sgd, datensatz_aufb, y_train, cv=5)\n",
        "cm(sgd_pred, y_train)\n",
        "\n",
        "sgd_dec = cross_val_predict(sgd, datensatz_aufb, y_train, cv=5, method=\"decision_function\")\n",
        "precision, recall, threshold = precision_recall_curve(y_train, sgd_dec)\n",
        "plot_prec_recall(precision, recall, threshold)\n",
        "plt.show()\n"
      ],
      "execution_count": 111,
      "outputs": [
        {
          "output_type": "stream",
          "text": [
            "[[115  19]\n",
            " [ 13  90]]\n",
            "Precision:  0.83\n",
            "Recall:  0.87\n"
          ],
          "name": "stdout"
        },
        {
          "output_type": "display_data",
          "data": {
            "image/png": "[encoded data removed]",
            "text/plain": [
              "<Figure size 432x288 with 1 Axes>"
            ]
          },
          "metadata": {
            "tags": [],
            "needs_background": "light"
          }
        }
      ]
    },
    {
      "cell_type": "markdown",
      "metadata": {
        "id": "65oetEa1R1jg",
        "colab_type": "text"
      },
      "source": [
        "Tuning des Hyperparameters mit Grid Search"
      ]
    },
    {
      "cell_type": "code",
      "metadata": {
        "id": "w9kyw6FLR_f7",
        "colab_type": "code",
        "colab": {
          "base_uri": "https://localhost:8080/",
          "height": 36
        },
        "outputId": "d15baa36-0664-42f8-d660-dd7f125ec15b"
      },
      "source": [
        "from sklearn.model_selection import GridSearchCV\n",
        "\n",
        "sgd2 = SGDClassifier(random_state=8)\n",
        "param_grid_sgd = [{\"alpha\": np.arange(0.01, 1, 0.01).tolist(), \"max_iter\": [100000]}]\n",
        "grid_search_sgd = GridSearchCV(sgd2, param_grid_sgd, cv=5)\n",
        "grid_search_sgd.fit(datensatz_aufb, y_train)\n",
        "print(grid_search_sgd.best_params_)"
      ],
      "execution_count": 108,
      "outputs": [
        {
          "output_type": "stream",
          "text": [
            "{'alpha': 0.04, 'max_iter': 100000}\n"
          ],
          "name": "stdout"
        }
      ]
    },
    {
      "cell_type": "markdown",
      "metadata": {
        "id": "X0Jx6pEuYx6D",
        "colab_type": "text"
      },
      "source": [
        "Glücklicherweise handelt es sich hier um einen kleinen Datensatz mit nur 300 Beobachtungen. Daher kann man die Lernrate sehr tief ansetzen und der Algorithmus konvergiert dennoch relativ schnell, auch bei einer hohen Anzahl Iterationen. Es wurde zuerst mit folgenden Parametern gesucht:\n",
        "\n",
        "*param_grid_sgd = [{\"alpha\": 10.0**-np.arange(1,7), \"max_iter\": [1000000]}]*\n",
        "\n",
        "Als Resultat betrug die optimale Lernrate 0.1. Daher wurde die optimale Lernrate noch einmal zwischen 0.01 und 1 gesucht, wobei 0.32 resultierte.\n",
        "\n"
      ]
    },
    {
      "cell_type": "markdown",
      "metadata": {
        "id": "kmJquNrTI3RN",
        "colab_type": "text"
      },
      "source": [
        "## Random Forest"
      ]
    },
    {
      "cell_type": "code",
      "metadata": {
        "id": "CnNTmW4FI8jB",
        "colab_type": "code",
        "colab": {
          "base_uri": "https://localhost:8080/",
          "height": 358
        },
        "outputId": "0d0fb000-124b-4c46-d59c-aa5cd91df26f"
      },
      "source": [
        "from sklearn.ensemble import RandomForestClassifier\n",
        "\n",
        "rf = RandomForestClassifier(max_depth=5, min_samples_leaf=1,\n",
        "                            min_samples_split=7, n_estimators=8,\n",
        "                            random_state=8)\n",
        "\n",
        "rf_pred = cross_val_predict(rf, datensatz_aufb, y_train, cv=5)\n",
        "cm(rf_pred, y_train)\n",
        "\n",
        "rf_dec = cross_val_predict(rf, datensatz_aufb, y_train, cv=5, method=\"predict_proba\")\n",
        "precision, recall, threshold = precision_recall_curve(y_train, rf_dec[:, 1])\n",
        "plot_prec_recall(precision, recall, threshold)\n",
        "plt.show()"
      ],
      "execution_count": 113,
      "outputs": [
        {
          "output_type": "stream",
          "text": [
            "[[115  23]\n",
            " [ 13  86]]\n",
            "Precision:  0.79\n",
            "Recall:  0.87\n"
          ],
          "name": "stdout"
        },
        {
          "output_type": "display_data",
          "data": {
            "image/png": "[encoded data removed]",
            "text/plain": [
              "<Figure size 432x288 with 1 Axes>"
            ]
          },
          "metadata": {
            "tags": [],
            "needs_background": "light"
          }
        }
      ]
    },
    {
      "cell_type": "markdown",
      "metadata": {
        "id": "X89TXz4-inBd",
        "colab_type": "text"
      },
      "source": [
        "Tuning der Hyperparameter mit Grid Search"
      ]
    },
    {
      "cell_type": "code",
      "metadata": {
        "id": "szmcwjabituj",
        "colab_type": "code",
        "colab": {
          "base_uri": "https://localhost:8080/",
          "height": 36
        },
        "outputId": "5f69fb04-b1da-425a-9709-d3cc56d8dfe5"
      },
      "source": [
        "rf2 = RandomForestClassifier(random_state=8)\n",
        "\n",
        "param_grid_rf = [{\"n_estimators\": np.arange(1, 10, 1).tolist(), \n",
        "                  \"max_depth\": np.arange(1, 10, 1).tolist(),\n",
        "                  \"min_samples_split\": [6, 7, 8, 9],\n",
        "                  \"min_samples_leaf\": [1, 2, 3]}]\n",
        "grid_search_rf = GridSearchCV(rf2, param_grid_rf, cv=5)\n",
        "grid_search_rf.fit(datensatz_aufb, y_train)\n",
        "print(grid_search_rf.best_params_)"
      ],
      "execution_count": 112,
      "outputs": [
        {
          "output_type": "stream",
          "text": [
            "{'max_depth': 5, 'min_samples_leaf': 1, 'min_samples_split': 7, 'n_estimators': 8}\n"
          ],
          "name": "stdout"
        }
      ]
    },
    {
      "cell_type": "markdown",
      "metadata": {
        "id": "osqe5wm-ZS5k",
        "colab_type": "text"
      },
      "source": [
        "# Resultate"
      ]
    },
    {
      "cell_type": "markdown",
      "metadata": {
        "id": "xnA3pEIpZUyX",
        "colab_type": "text"
      },
      "source": [
        "# Konklusion"
      ]
    }
  ]
}