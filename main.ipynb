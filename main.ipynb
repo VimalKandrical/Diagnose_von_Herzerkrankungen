{
  "nbformat": 4,
  "nbformat_minor": 0,
  "metadata": {
    "colab": {
      "name": "main.ipynb",
      "provenance": [],
      "toc_visible": true
    },
    "kernelspec": {
      "name": "python3",
      "display_name": "Python 3"
    }
  },
  "cells": [
    {
      "cell_type": "markdown",
      "metadata": {
        "id": "lC2NDrTlSrmf",
        "colab_type": "text"
      },
      "source": [
        "#Diagnose von Herzerkrankungen mit Machine Learning\n",
        "**Autor:**<br> Vimal Kandrical\n",
        "\n",
        "**Daten:**<br>[Heart Disease Cleveland UCI | Kaggle](https://www.kaggle.com/cherngs/heart-disease-cleveland-uci) "
      ]
    },
    {
      "cell_type": "markdown",
      "metadata": {
        "id": "fYaB8aCFSxLN",
        "colab_type": "text"
      },
      "source": [
        "# Einleitung"
      ]
    },
    {
      "cell_type": "markdown",
      "metadata": {
        "id": "D6ggALb3S2qg",
        "colab_type": "text"
      },
      "source": [
        "blabla\n"
      ]
    }
  ]
}
